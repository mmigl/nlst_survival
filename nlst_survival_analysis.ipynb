{
 "cells": [
  {
   "cell_type": "code",
   "execution_count": 3,
   "id": "a3e7d06a",
   "metadata": {},
   "outputs": [],
   "source": [
    "import numpy as np\n",
    "import pandas as pd\n",
    "from lifelines import KaplanMeierFitter\n",
    "from lifelines import CoxPHFitter\n",
    "from lifelines.utils import median_survival_times\n",
    "import matplotlib.pyplot as plt"
   ]
  },
  {
   "cell_type": "code",
   "execution_count": 4,
   "id": "07cfef20",
   "metadata": {},
   "outputs": [],
   "source": [
    "from lifelines import KaplanMeierFitter\n",
    "#survival analysis "
   ]
  },
  {
   "cell_type": "code",
   "execution_count": 5,
   "id": "02a341da",
   "metadata": {},
   "outputs": [],
   "source": [
    "from lifelines import CoxPHFitter\n",
    "from lifelines.utils import median_survival_times"
   ]
  },
  {
   "cell_type": "code",
   "execution_count": 6,
   "id": "8a420171",
   "metadata": {},
   "outputs": [],
   "source": [
    "import matplotlib.pyplot as plt"
   ]
  },
  {
   "cell_type": "code",
   "execution_count": 7,
   "id": "bd697c7a",
   "metadata": {},
   "outputs": [],
   "source": [
    "# Read data\n",
    "data = pd.read_csv(\"C:\\\\Users\\\\mehak\\\\Downloads\\\\nlst_participant_data.csv\", index_col = 0, low_memory = False)"
   ]
  },
  {
   "cell_type": "code",
   "execution_count": 8,
   "id": "d5f4d68d",
   "metadata": {},
   "outputs": [
    {
     "data": {
      "text/plain": [
       "(53452, 355)"
      ]
     },
     "execution_count": 8,
     "metadata": {},
     "output_type": "execute_result"
    }
   ],
   "source": [
    "data.shape"
   ]
  },
  {
   "cell_type": "code",
   "execution_count": 9,
   "id": "c30e4d07",
   "metadata": {},
   "outputs": [
    {
     "data": {
      "text/plain": [
       "Index(['dataset_version', 'elig', 'ineligible', 'pid', 'rndgroup', 'study',\n",
       "       'age', 'educat', 'ethnic', 'gender',\n",
       "       ...\n",
       "       'finaldeathlc', 'hasdcf', 'ndicd', 'evp_revr', 'evpcert', 'evpdeath',\n",
       "       'evpdirect', 'evpincomplete', 'evpsel', 'evpsent'],\n",
       "      dtype='object', length=355)"
      ]
     },
     "execution_count": 9,
     "metadata": {},
     "output_type": "execute_result"
    }
   ],
   "source": [
    "data.columns"
   ]
  },
  {
   "cell_type": "code",
   "execution_count": 10,
   "id": "9b74349e",
   "metadata": {},
   "outputs": [],
   "source": [
    "selected_columns = ['age','gender','race','lung_cancer','canc_free_days','candx_days']"
   ]
  },
  {
   "cell_type": "code",
   "execution_count": 11,
   "id": "f85ea80c",
   "metadata": {},
   "outputs": [],
   "source": [
    "new_data = data[selected_columns]"
   ]
  },
  {
   "cell_type": "code",
   "execution_count": 12,
   "id": "69289d5f",
   "metadata": {},
   "outputs": [
    {
     "data": {
      "text/html": [
       "<div>\n",
       "<style scoped>\n",
       "    .dataframe tbody tr th:only-of-type {\n",
       "        vertical-align: middle;\n",
       "    }\n",
       "\n",
       "    .dataframe tbody tr th {\n",
       "        vertical-align: top;\n",
       "    }\n",
       "\n",
       "    .dataframe thead th {\n",
       "        text-align: right;\n",
       "    }\n",
       "</style>\n",
       "<table border=\"1\" class=\"dataframe\">\n",
       "  <thead>\n",
       "    <tr style=\"text-align: right;\">\n",
       "      <th></th>\n",
       "      <th>age</th>\n",
       "      <th>gender</th>\n",
       "      <th>race</th>\n",
       "      <th>lung_cancer</th>\n",
       "      <th>canc_free_days</th>\n",
       "      <th>candx_days</th>\n",
       "    </tr>\n",
       "    <tr>\n",
       "      <th>cen</th>\n",
       "      <th></th>\n",
       "      <th></th>\n",
       "      <th></th>\n",
       "      <th></th>\n",
       "      <th></th>\n",
       "      <th></th>\n",
       "    </tr>\n",
       "  </thead>\n",
       "  <tbody>\n",
       "    <tr>\n",
       "      <th>BG</th>\n",
       "      <td>70</td>\n",
       "      <td>1</td>\n",
       "      <td>1</td>\n",
       "      <td>0</td>\n",
       "      <td>2353</td>\n",
       "      <td>NaN</td>\n",
       "    </tr>\n",
       "    <tr>\n",
       "      <th>AF</th>\n",
       "      <td>66</td>\n",
       "      <td>1</td>\n",
       "      <td>1</td>\n",
       "      <td>0</td>\n",
       "      <td>2391</td>\n",
       "      <td>NaN</td>\n",
       "    </tr>\n",
       "    <tr>\n",
       "      <th>AR</th>\n",
       "      <td>64</td>\n",
       "      <td>1</td>\n",
       "      <td>1</td>\n",
       "      <td>0</td>\n",
       "      <td>2381</td>\n",
       "      <td>NaN</td>\n",
       "    </tr>\n",
       "    <tr>\n",
       "      <th>AF</th>\n",
       "      <td>60</td>\n",
       "      <td>1</td>\n",
       "      <td>1</td>\n",
       "      <td>0</td>\n",
       "      <td>2688</td>\n",
       "      <td>NaN</td>\n",
       "    </tr>\n",
       "    <tr>\n",
       "      <th>AA</th>\n",
       "      <td>64</td>\n",
       "      <td>1</td>\n",
       "      <td>1</td>\n",
       "      <td>0</td>\n",
       "      <td>2435</td>\n",
       "      <td>NaN</td>\n",
       "    </tr>\n",
       "  </tbody>\n",
       "</table>\n",
       "</div>"
      ],
      "text/plain": [
       "     age  gender  race  lung_cancer  canc_free_days  candx_days\n",
       "cen                                                            \n",
       "BG    70       1     1            0            2353         NaN\n",
       "AF    66       1     1            0            2391         NaN\n",
       "AR    64       1     1            0            2381         NaN\n",
       "AF    60       1     1            0            2688         NaN\n",
       "AA    64       1     1            0            2435         NaN"
      ]
     },
     "execution_count": 12,
     "metadata": {},
     "output_type": "execute_result"
    }
   ],
   "source": [
    "new_data.head()"
   ]
  },
  {
   "cell_type": "code",
   "execution_count": 13,
   "id": "0642bdfc",
   "metadata": {},
   "outputs": [],
   "source": [
    "data['time'] = (new_data[\"canc_free_days\"] * (1 - new_data[\"lung_cancer\"])) + np.nan_to_num(new_data[\"candx_days\"], nan=0)"
   ]
  },
  {
   "cell_type": "code",
   "execution_count": 14,
   "id": "6998e710",
   "metadata": {},
   "outputs": [
    {
     "data": {
      "text/plain": [
       "cen\n",
       "BG    2353.0\n",
       "AF    2391.0\n",
       "AR    2381.0\n",
       "AF    2688.0\n",
       "AA    2435.0\n",
       "       ...  \n",
       "AE    2245.0\n",
       "BA    2380.0\n",
       "BF    2577.0\n",
       "AJ    2305.0\n",
       "AY    2547.0\n",
       "Length: 53452, dtype: float64"
      ]
     },
     "execution_count": 14,
     "metadata": {},
     "output_type": "execute_result"
    }
   ],
   "source": [
    "(new_data[\"canc_free_days\"] * (1 - new_data[\"lung_cancer\"])) + np.nan_to_num(new_data[\"candx_days\"], nan=0)"
   ]
  },
  {
   "cell_type": "code",
   "execution_count": 15,
   "id": "56c7f5e4",
   "metadata": {},
   "outputs": [],
   "source": [
    "final_columns = ['age','gender','race','time','lung_cancer']"
   ]
  },
  {
   "cell_type": "code",
   "execution_count": 16,
   "id": "ec065c3a",
   "metadata": {},
   "outputs": [],
   "source": [
    "final_data = data[final_columns]"
   ]
  },
  {
   "cell_type": "code",
   "execution_count": 17,
   "id": "05019024",
   "metadata": {},
   "outputs": [
    {
     "data": {
      "text/html": [
       "<div>\n",
       "<style scoped>\n",
       "    .dataframe tbody tr th:only-of-type {\n",
       "        vertical-align: middle;\n",
       "    }\n",
       "\n",
       "    .dataframe tbody tr th {\n",
       "        vertical-align: top;\n",
       "    }\n",
       "\n",
       "    .dataframe thead th {\n",
       "        text-align: right;\n",
       "    }\n",
       "</style>\n",
       "<table border=\"1\" class=\"dataframe\">\n",
       "  <thead>\n",
       "    <tr style=\"text-align: right;\">\n",
       "      <th></th>\n",
       "      <th>age</th>\n",
       "      <th>gender</th>\n",
       "      <th>race</th>\n",
       "      <th>time</th>\n",
       "      <th>lung_cancer</th>\n",
       "    </tr>\n",
       "    <tr>\n",
       "      <th>cen</th>\n",
       "      <th></th>\n",
       "      <th></th>\n",
       "      <th></th>\n",
       "      <th></th>\n",
       "      <th></th>\n",
       "    </tr>\n",
       "  </thead>\n",
       "  <tbody>\n",
       "    <tr>\n",
       "      <th>BG</th>\n",
       "      <td>70</td>\n",
       "      <td>1</td>\n",
       "      <td>1</td>\n",
       "      <td>2353.0</td>\n",
       "      <td>0</td>\n",
       "    </tr>\n",
       "    <tr>\n",
       "      <th>AF</th>\n",
       "      <td>66</td>\n",
       "      <td>1</td>\n",
       "      <td>1</td>\n",
       "      <td>2391.0</td>\n",
       "      <td>0</td>\n",
       "    </tr>\n",
       "    <tr>\n",
       "      <th>AR</th>\n",
       "      <td>64</td>\n",
       "      <td>1</td>\n",
       "      <td>1</td>\n",
       "      <td>2381.0</td>\n",
       "      <td>0</td>\n",
       "    </tr>\n",
       "    <tr>\n",
       "      <th>AF</th>\n",
       "      <td>60</td>\n",
       "      <td>1</td>\n",
       "      <td>1</td>\n",
       "      <td>2688.0</td>\n",
       "      <td>0</td>\n",
       "    </tr>\n",
       "    <tr>\n",
       "      <th>AA</th>\n",
       "      <td>64</td>\n",
       "      <td>1</td>\n",
       "      <td>1</td>\n",
       "      <td>2435.0</td>\n",
       "      <td>0</td>\n",
       "    </tr>\n",
       "  </tbody>\n",
       "</table>\n",
       "</div>"
      ],
      "text/plain": [
       "     age  gender  race    time  lung_cancer\n",
       "cen                                        \n",
       "BG    70       1     1  2353.0            0\n",
       "AF    66       1     1  2391.0            0\n",
       "AR    64       1     1  2381.0            0\n",
       "AF    60       1     1  2688.0            0\n",
       "AA    64       1     1  2435.0            0"
      ]
     },
     "execution_count": 17,
     "metadata": {},
     "output_type": "execute_result"
    }
   ],
   "source": [
    "final_data.head()"
   ]
  },
  {
   "cell_type": "code",
   "execution_count": 18,
   "id": "eeb91761",
   "metadata": {},
   "outputs": [
    {
     "data": {
      "text/plain": [
       "age            0\n",
       "gender         0\n",
       "race           0\n",
       "time           0\n",
       "lung_cancer    0\n",
       "dtype: int64"
      ]
     },
     "execution_count": 18,
     "metadata": {},
     "output_type": "execute_result"
    }
   ],
   "source": [
    "final_data.isnull().sum()"
   ]
  },
  {
   "cell_type": "code",
   "execution_count": 19,
   "id": "dad66969",
   "metadata": {},
   "outputs": [
    {
     "data": {
      "text/plain": [
       "<Axes: xlabel='timeline'>"
      ]
     },
     "execution_count": 19,
     "metadata": {},
     "output_type": "execute_result"
    },
    {
     "data": {
      "image/png": "[encoded data removed]",
      "text/plain": [
       "<Figure size 640x480 with 1 Axes>"
      ]
     },
     "metadata": {},
     "output_type": "display_data"
    }
   ],
   "source": [
    "kmf = KaplanMeierFitter()\n",
    "kmf.fit(durations = final_data[\"time\"], event_observed = final_data[\"lung_cancer\"])\n",
    "kmf.plot_survival_function()"
   ]
  },
  {
   "cell_type": "code",
   "execution_count": 20,
   "id": "9ec36a76",
   "metadata": {},
   "outputs": [
    {
     "data": {
      "text/plain": [
       "<Axes: xlabel='timeline'>"
      ]
     },
     "execution_count": 20,
     "metadata": {},
     "output_type": "execute_result"
    },
    {
     "data": {
      "image/png": "[encoded data removed]",
      "text/plain": [
       "<Figure size 640x480 with 1 Axes>"
      ]
     },
     "metadata": {},
     "output_type": "display_data"
    }
   ],
   "source": [
    "kmf.plot_cumulative_density()"
   ]
  },
  {
   "cell_type": "code",
   "execution_count": 21,
   "id": "28393b67",
   "metadata": {},
   "outputs": [],
   "source": [
    "from lifelines.utils import median_survival_times"
   ]
  },
  {
   "cell_type": "code",
   "execution_count": 22,
   "id": "845841fa",
   "metadata": {},
   "outputs": [],
   "source": [
    "median = kmf.median_survival_time_"
   ]
  },
  {
   "cell_type": "code",
   "execution_count": 23,
   "id": "a5c98f6f",
   "metadata": {},
   "outputs": [],
   "source": [
    "median_confidence_interval = median_survival_times(kmf.confidence_interval_)"
   ]
  },
  {
   "cell_type": "code",
   "execution_count": 24,
   "id": "aebfca97",
   "metadata": {},
   "outputs": [
    {
     "name": "stdout",
     "output_type": "stream",
     "text": [
      "inf\n",
      "     KM_estimate_lower_0.95  KM_estimate_upper_0.95\n",
      "0.5                     inf                     inf\n"
     ]
    }
   ],
   "source": [
    "print(median)\n",
    "print(median_confidence_interval)"
   ]
  },
  {
   "cell_type": "code",
   "execution_count": 25,
   "id": "ae155240",
   "metadata": {},
   "outputs": [],
   "source": [
    "T = final_data['time']\n",
    "E = final_data['lung_cancer']"
   ]
  },
  {
   "cell_type": "code",
   "execution_count": 26,
   "id": "6f7ca004",
   "metadata": {},
   "outputs": [
    {
     "data": {
      "text/plain": [
       "Text(0.5, 1.0, 'Survival of different gender group')"
      ]
     },
     "execution_count": 26,
     "metadata": {},
     "output_type": "execute_result"
    },
    {
     "data": {
      "image/png": "[encoded data removed]",
      "text/plain": [
       "<Figure size 640x480 with 2 Axes>"
      ]
     },
     "metadata": {},
     "output_type": "display_data"
    }
   ],
   "source": [
    "ax = plt.subplot(111)\n",
    "m = (final_data[\"gender\"] == 1)\n",
    "kmf.fit(durations = T[m], event_observed = E[m], label = \"Male\")\n",
    "kmf.plot_survival_function(ax = ax)\n",
    "kmf.fit(T[~m], event_observed = E[~m], label = \"Female\")\n",
    "kmf.plot_survival_function(ax = ax, at_risk_counts = True)\n",
    "plt.title(\"Survival of different gender group\")"
   ]
  },
  {
   "cell_type": "code",
   "execution_count": 27,
   "id": "22a3df6a",
   "metadata": {},
   "outputs": [
    {
     "data": {
      "image/png": "[encoded data removed]",
      "text/plain": [
       "<Figure size 640x480 with 11 Axes>"
      ]
     },
     "metadata": {},
     "output_type": "display_data"
    }
   ],
   "source": [
    "race_categories = final_data.sort_values(by = ['race'])[\"race\"].unique()\n",
    "for i, race_categories in enumerate(race_categories):\n",
    "  ax = plt.subplot(4, 4, i + 1)\n",
    "  ix = data['race'] == race_categories\n",
    "  kmf.fit(T[ix], E[ix], label = race_categories)\n",
    "  kmf.plot_survival_function(ax = ax, legend = False)\n",
    "  plt.title(race_categories)\n",
    "  plt.xlim(0, 1200)\n",
    "plt.tight_layout()"
   ]
  },
  {
   "cell_type": "code",
   "execution_count": 35,
   "id": "b7e984e0",
   "metadata": {},
   "outputs": [],
   "source": [
    "final_data = final_data[final_data[\"race\"] != 96]\n",
    "final_data = final_data[final_data[\"race\"] != 98]\n",
    "#final_data = final_data[final_data[\"race\"] != 7]"
   ]
  },
  {
   "cell_type": "code",
   "execution_count": 36,
   "id": "0cf653a7",
   "metadata": {},
   "outputs": [
    {
     "data": {
      "text/plain": [
       "race\n",
       "1     48549\n",
       "2      2376\n",
       "3      1095\n",
       "6       679\n",
       "5       193\n",
       "4       190\n",
       "95      175\n",
       "7       109\n",
       "99       81\n",
       "Name: count, dtype: int64"
      ]
     },
     "execution_count": 36,
     "metadata": {},
     "output_type": "execute_result"
    }
   ],
   "source": [
    "final_data['race'].value_counts()"
   ]
  },
  {
   "cell_type": "code",
   "execution_count": 37,
   "id": "82c98fd1",
   "metadata": {},
   "outputs": [
    {
     "data": {
      "text/html": [
       "<div>\n",
       "<style scoped>\n",
       "    .dataframe tbody tr th:only-of-type {\n",
       "        vertical-align: middle;\n",
       "    }\n",
       "\n",
       "    .dataframe tbody tr th {\n",
       "        vertical-align: top;\n",
       "    }\n",
       "\n",
       "    .dataframe thead th {\n",
       "        text-align: right;\n",
       "    }\n",
       "</style>\n",
       "<table border=\"1\" class=\"dataframe\">\n",
       "  <thead>\n",
       "    <tr style=\"text-align: right;\">\n",
       "      <th></th>\n",
       "      <th>race_1</th>\n",
       "      <th>race_2</th>\n",
       "      <th>race_3</th>\n",
       "      <th>race_4</th>\n",
       "      <th>race_5</th>\n",
       "      <th>race_6</th>\n",
       "      <th>race_7</th>\n",
       "      <th>race_95</th>\n",
       "      <th>race_99</th>\n",
       "    </tr>\n",
       "    <tr>\n",
       "      <th>cen</th>\n",
       "      <th></th>\n",
       "      <th></th>\n",
       "      <th></th>\n",
       "      <th></th>\n",
       "      <th></th>\n",
       "      <th></th>\n",
       "      <th></th>\n",
       "      <th></th>\n",
       "      <th></th>\n",
       "    </tr>\n",
       "  </thead>\n",
       "  <tbody>\n",
       "    <tr>\n",
       "      <th>BG</th>\n",
       "      <td>True</td>\n",
       "      <td>False</td>\n",
       "      <td>False</td>\n",
       "      <td>False</td>\n",
       "      <td>False</td>\n",
       "      <td>False</td>\n",
       "      <td>False</td>\n",
       "      <td>False</td>\n",
       "      <td>False</td>\n",
       "    </tr>\n",
       "    <tr>\n",
       "      <th>AF</th>\n",
       "      <td>True</td>\n",
       "      <td>False</td>\n",
       "      <td>False</td>\n",
       "      <td>False</td>\n",
       "      <td>False</td>\n",
       "      <td>False</td>\n",
       "      <td>False</td>\n",
       "      <td>False</td>\n",
       "      <td>False</td>\n",
       "    </tr>\n",
       "    <tr>\n",
       "      <th>AR</th>\n",
       "      <td>True</td>\n",
       "      <td>False</td>\n",
       "      <td>False</td>\n",
       "      <td>False</td>\n",
       "      <td>False</td>\n",
       "      <td>False</td>\n",
       "      <td>False</td>\n",
       "      <td>False</td>\n",
       "      <td>False</td>\n",
       "    </tr>\n",
       "    <tr>\n",
       "      <th>AF</th>\n",
       "      <td>True</td>\n",
       "      <td>False</td>\n",
       "      <td>False</td>\n",
       "      <td>False</td>\n",
       "      <td>False</td>\n",
       "      <td>False</td>\n",
       "      <td>False</td>\n",
       "      <td>False</td>\n",
       "      <td>False</td>\n",
       "    </tr>\n",
       "  </tbody>\n",
       "</table>\n",
       "</div>"
      ],
      "text/plain": [
       "     race_1  race_2  race_3  race_4  race_5  race_6  race_7  race_95  race_99\n",
       "cen                                                                          \n",
       "BG     True   False   False   False   False   False   False    False    False\n",
       "AF     True   False   False   False   False   False   False    False    False\n",
       "AR     True   False   False   False   False   False   False    False    False\n",
       "AF     True   False   False   False   False   False   False    False    False"
      ]
     },
     "execution_count": 37,
     "metadata": {},
     "output_type": "execute_result"
    }
   ],
   "source": [
    "dummies_race = pd.get_dummies(final_data[\"race\"], prefix = 'race')\n",
    "dummies_race.head(4)"
   ]
  },
  {
   "cell_type": "code",
   "execution_count": 39,
   "id": "ef30df14",
   "metadata": {},
   "outputs": [
    {
     "data": {
      "text/html": [
       "<div>\n",
       "<style scoped>\n",
       "    .dataframe tbody tr th:only-of-type {\n",
       "        vertical-align: middle;\n",
       "    }\n",
       "\n",
       "    .dataframe tbody tr th {\n",
       "        vertical-align: top;\n",
       "    }\n",
       "\n",
       "    .dataframe thead th {\n",
       "        text-align: right;\n",
       "    }\n",
       "</style>\n",
       "<table border=\"1\" class=\"dataframe\">\n",
       "  <thead>\n",
       "    <tr style=\"text-align: right;\">\n",
       "      <th></th>\n",
       "      <th>age</th>\n",
       "      <th>gender</th>\n",
       "      <th>time</th>\n",
       "      <th>lung_cancer</th>\n",
       "      <th>race_2</th>\n",
       "      <th>race_3</th>\n",
       "      <th>race_4</th>\n",
       "      <th>race_5</th>\n",
       "      <th>race_6</th>\n",
       "      <th>race_7</th>\n",
       "      <th>race_95</th>\n",
       "      <th>race_99</th>\n",
       "    </tr>\n",
       "    <tr>\n",
       "      <th>cen</th>\n",
       "      <th></th>\n",
       "      <th></th>\n",
       "      <th></th>\n",
       "      <th></th>\n",
       "      <th></th>\n",
       "      <th></th>\n",
       "      <th></th>\n",
       "      <th></th>\n",
       "      <th></th>\n",
       "      <th></th>\n",
       "      <th></th>\n",
       "      <th></th>\n",
       "    </tr>\n",
       "  </thead>\n",
       "  <tbody>\n",
       "    <tr>\n",
       "      <th>BG</th>\n",
       "      <td>70</td>\n",
       "      <td>1</td>\n",
       "      <td>2353.0</td>\n",
       "      <td>0</td>\n",
       "      <td>0</td>\n",
       "      <td>0</td>\n",
       "      <td>0</td>\n",
       "      <td>0</td>\n",
       "      <td>0</td>\n",
       "      <td>0</td>\n",
       "      <td>0</td>\n",
       "      <td>0</td>\n",
       "    </tr>\n",
       "    <tr>\n",
       "      <th>AF</th>\n",
       "      <td>66</td>\n",
       "      <td>1</td>\n",
       "      <td>2391.0</td>\n",
       "      <td>0</td>\n",
       "      <td>0</td>\n",
       "      <td>0</td>\n",
       "      <td>0</td>\n",
       "      <td>0</td>\n",
       "      <td>0</td>\n",
       "      <td>0</td>\n",
       "      <td>0</td>\n",
       "      <td>0</td>\n",
       "    </tr>\n",
       "    <tr>\n",
       "      <th>AR</th>\n",
       "      <td>64</td>\n",
       "      <td>1</td>\n",
       "      <td>2381.0</td>\n",
       "      <td>0</td>\n",
       "      <td>0</td>\n",
       "      <td>0</td>\n",
       "      <td>0</td>\n",
       "      <td>0</td>\n",
       "      <td>0</td>\n",
       "      <td>0</td>\n",
       "      <td>0</td>\n",
       "      <td>0</td>\n",
       "    </tr>\n",
       "    <tr>\n",
       "      <th>AF</th>\n",
       "      <td>60</td>\n",
       "      <td>1</td>\n",
       "      <td>2688.0</td>\n",
       "      <td>0</td>\n",
       "      <td>0</td>\n",
       "      <td>0</td>\n",
       "      <td>0</td>\n",
       "      <td>0</td>\n",
       "      <td>0</td>\n",
       "      <td>0</td>\n",
       "      <td>0</td>\n",
       "      <td>0</td>\n",
       "    </tr>\n",
       "    <tr>\n",
       "      <th>AA</th>\n",
       "      <td>64</td>\n",
       "      <td>1</td>\n",
       "      <td>2435.0</td>\n",
       "      <td>0</td>\n",
       "      <td>0</td>\n",
       "      <td>0</td>\n",
       "      <td>0</td>\n",
       "      <td>0</td>\n",
       "      <td>0</td>\n",
       "      <td>0</td>\n",
       "      <td>0</td>\n",
       "      <td>0</td>\n",
       "    </tr>\n",
       "  </tbody>\n",
       "</table>\n",
       "</div>"
      ],
      "text/plain": [
       "     age  gender    time  lung_cancer  race_2  race_3  race_4  race_5  race_6  \\\n",
       "cen                                                                             \n",
       "BG    70       1  2353.0            0       0       0       0       0       0   \n",
       "AF    66       1  2391.0            0       0       0       0       0       0   \n",
       "AR    64       1  2381.0            0       0       0       0       0       0   \n",
       "AF    60       1  2688.0            0       0       0       0       0       0   \n",
       "AA    64       1  2435.0            0       0       0       0       0       0   \n",
       "\n",
       "     race_7  race_95  race_99  \n",
       "cen                            \n",
       "BG        0        0        0  \n",
       "AF        0        0        0  \n",
       "AR        0        0        0  \n",
       "AF        0        0        0  \n",
       "AA        0        0        0  "
      ]
     },
     "execution_count": 39,
     "metadata": {},
     "output_type": "execute_result"
    }
   ],
   "source": [
    "dummies_race = dummies_race[[\"race_2\", \"race_3\", \"race_4\", \"race_5\", \"race_6\", \"race_7\", \"race_95\", \"race_99\"]]\n",
    "dummies_race = dummies_race.astype(int)\n",
    "final_data_ = pd.concat([final_data, dummies_race], axis = 1)\n",
    "final_data_ = final_data_.drop(\"race\", axis = 1)\n",
    "final_data_.head()"
   ]
  },
  {
   "cell_type": "code",
   "execution_count": 40,
   "id": "fef51a71",
   "metadata": {},
   "outputs": [],
   "source": [
    "from lifelines import CoxPHFitter"
   ]
  },
  {
   "cell_type": "code",
   "execution_count": 41,
   "id": "094c51c4",
   "metadata": {},
   "outputs": [
    {
     "data": {
      "text/html": [
       "<div>\n",
       "<style scoped>\n",
       "    .dataframe tbody tr th:only-of-type {\n",
       "        vertical-align: middle;\n",
       "    }\n",
       "\n",
       "    .dataframe tbody tr th {\n",
       "        vertical-align: top;\n",
       "    }\n",
       "\n",
       "    .dataframe thead th {\n",
       "        text-align: right;\n",
       "    }\n",
       "</style>\n",
       "<table border=\"1\" class=\"dataframe\">\n",
       "  <tbody>\n",
       "    <tr>\n",
       "      <th>model</th>\n",
       "      <td>lifelines.CoxPHFitter</td>\n",
       "    </tr>\n",
       "    <tr>\n",
       "      <th>duration col</th>\n",
       "      <td>'time'</td>\n",
       "    </tr>\n",
       "    <tr>\n",
       "      <th>event col</th>\n",
       "      <td>'lung_cancer'</td>\n",
       "    </tr>\n",
       "    <tr>\n",
       "      <th>baseline estimation</th>\n",
       "      <td>breslow</td>\n",
       "    </tr>\n",
       "    <tr>\n",
       "      <th>number of observations</th>\n",
       "      <td>53447</td>\n",
       "    </tr>\n",
       "    <tr>\n",
       "      <th>number of events observed</th>\n",
       "      <td>2058</td>\n",
       "    </tr>\n",
       "    <tr>\n",
       "      <th>partial log-likelihood</th>\n",
       "      <td>-22010.94</td>\n",
       "    </tr>\n",
       "    <tr>\n",
       "      <th>time fit was run</th>\n",
       "      <td>2024-01-05 15:18:24 UTC</td>\n",
       "    </tr>\n",
       "  </tbody>\n",
       "</table>\n",
       "</div><table border=\"1\" class=\"dataframe\">\n",
       "  <thead>\n",
       "    <tr style=\"text-align: right;\">\n",
       "      <th style=\"min-width: 12px;\"></th>\n",
       "      <th style=\"min-width: 12px;\">coef</th>\n",
       "      <th style=\"min-width: 12px;\">exp(coef)</th>\n",
       "      <th style=\"min-width: 12px;\">se(coef)</th>\n",
       "      <th style=\"min-width: 12px;\">coef lower 95%</th>\n",
       "      <th style=\"min-width: 12px;\">coef upper 95%</th>\n",
       "      <th style=\"min-width: 12px;\">exp(coef) lower 95%</th>\n",
       "      <th style=\"min-width: 12px;\">exp(coef) upper 95%</th>\n",
       "      <th style=\"min-width: 12px;\">cmp to</th>\n",
       "      <th style=\"min-width: 12px;\">z</th>\n",
       "      <th style=\"min-width: 12px;\">p</th>\n",
       "      <th style=\"min-width: 12px;\">-log2(p)</th>\n",
       "    </tr>\n",
       "  </thead>\n",
       "  <tbody>\n",
       "    <tr>\n",
       "      <th>age</th>\n",
       "      <td>0.08</td>\n",
       "      <td>1.09</td>\n",
       "      <td>0.00</td>\n",
       "      <td>0.08</td>\n",
       "      <td>0.09</td>\n",
       "      <td>1.08</td>\n",
       "      <td>1.10</td>\n",
       "      <td>0.00</td>\n",
       "      <td>20.88</td>\n",
       "      <td>&lt;0.005</td>\n",
       "      <td>319.21</td>\n",
       "    </tr>\n",
       "    <tr>\n",
       "      <th>gender</th>\n",
       "      <td>-0.02</td>\n",
       "      <td>0.99</td>\n",
       "      <td>0.05</td>\n",
       "      <td>-0.10</td>\n",
       "      <td>0.07</td>\n",
       "      <td>0.90</td>\n",
       "      <td>1.08</td>\n",
       "      <td>0.00</td>\n",
       "      <td>-0.34</td>\n",
       "      <td>0.74</td>\n",
       "      <td>0.44</td>\n",
       "    </tr>\n",
       "    <tr>\n",
       "      <th>race_2</th>\n",
       "      <td>0.26</td>\n",
       "      <td>1.30</td>\n",
       "      <td>0.10</td>\n",
       "      <td>0.06</td>\n",
       "      <td>0.46</td>\n",
       "      <td>1.06</td>\n",
       "      <td>1.58</td>\n",
       "      <td>0.00</td>\n",
       "      <td>2.56</td>\n",
       "      <td>0.01</td>\n",
       "      <td>6.59</td>\n",
       "    </tr>\n",
       "    <tr>\n",
       "      <th>race_3</th>\n",
       "      <td>-0.21</td>\n",
       "      <td>0.81</td>\n",
       "      <td>0.17</td>\n",
       "      <td>-0.54</td>\n",
       "      <td>0.12</td>\n",
       "      <td>0.58</td>\n",
       "      <td>1.13</td>\n",
       "      <td>0.00</td>\n",
       "      <td>-1.24</td>\n",
       "      <td>0.22</td>\n",
       "      <td>2.21</td>\n",
       "    </tr>\n",
       "    <tr>\n",
       "      <th>race_4</th>\n",
       "      <td>0.41</td>\n",
       "      <td>1.50</td>\n",
       "      <td>0.32</td>\n",
       "      <td>-0.22</td>\n",
       "      <td>1.03</td>\n",
       "      <td>0.81</td>\n",
       "      <td>2.79</td>\n",
       "      <td>0.00</td>\n",
       "      <td>1.28</td>\n",
       "      <td>0.20</td>\n",
       "      <td>2.32</td>\n",
       "    </tr>\n",
       "    <tr>\n",
       "      <th>race_5</th>\n",
       "      <td>-0.28</td>\n",
       "      <td>0.76</td>\n",
       "      <td>0.45</td>\n",
       "      <td>-1.16</td>\n",
       "      <td>0.60</td>\n",
       "      <td>0.31</td>\n",
       "      <td>1.82</td>\n",
       "      <td>0.00</td>\n",
       "      <td>-0.62</td>\n",
       "      <td>0.53</td>\n",
       "      <td>0.91</td>\n",
       "    </tr>\n",
       "    <tr>\n",
       "      <th>race_6</th>\n",
       "      <td>-0.07</td>\n",
       "      <td>0.93</td>\n",
       "      <td>0.21</td>\n",
       "      <td>-0.49</td>\n",
       "      <td>0.35</td>\n",
       "      <td>0.61</td>\n",
       "      <td>1.42</td>\n",
       "      <td>0.00</td>\n",
       "      <td>-0.33</td>\n",
       "      <td>0.74</td>\n",
       "      <td>0.43</td>\n",
       "    </tr>\n",
       "    <tr>\n",
       "      <th>race_7</th>\n",
       "      <td>-1.39</td>\n",
       "      <td>0.25</td>\n",
       "      <td>1.00</td>\n",
       "      <td>-3.35</td>\n",
       "      <td>0.57</td>\n",
       "      <td>0.04</td>\n",
       "      <td>1.77</td>\n",
       "      <td>0.00</td>\n",
       "      <td>-1.39</td>\n",
       "      <td>0.16</td>\n",
       "      <td>2.61</td>\n",
       "    </tr>\n",
       "    <tr>\n",
       "      <th>race_95</th>\n",
       "      <td>0.99</td>\n",
       "      <td>2.70</td>\n",
       "      <td>0.33</td>\n",
       "      <td>0.34</td>\n",
       "      <td>1.65</td>\n",
       "      <td>1.40</td>\n",
       "      <td>5.19</td>\n",
       "      <td>0.00</td>\n",
       "      <td>2.97</td>\n",
       "      <td>&lt;0.005</td>\n",
       "      <td>8.39</td>\n",
       "    </tr>\n",
       "    <tr>\n",
       "      <th>race_99</th>\n",
       "      <td>-0.33</td>\n",
       "      <td>0.72</td>\n",
       "      <td>0.71</td>\n",
       "      <td>-1.72</td>\n",
       "      <td>1.05</td>\n",
       "      <td>0.18</td>\n",
       "      <td>2.87</td>\n",
       "      <td>0.00</td>\n",
       "      <td>-0.47</td>\n",
       "      <td>0.64</td>\n",
       "      <td>0.65</td>\n",
       "    </tr>\n",
       "  </tbody>\n",
       "</table><br><div>\n",
       "<style scoped>\n",
       "    .dataframe tbody tr th:only-of-type {\n",
       "        vertical-align: middle;\n",
       "    }\n",
       "\n",
       "    .dataframe tbody tr th {\n",
       "        vertical-align: top;\n",
       "    }\n",
       "\n",
       "    .dataframe thead th {\n",
       "        text-align: right;\n",
       "    }\n",
       "</style>\n",
       "<table border=\"1\" class=\"dataframe\">\n",
       "  <tbody>\n",
       "    <tr>\n",
       "      <th>Concordance</th>\n",
       "      <td>0.50</td>\n",
       "    </tr>\n",
       "    <tr>\n",
       "      <th>Partial AIC</th>\n",
       "      <td>44041.88</td>\n",
       "    </tr>\n",
       "    <tr>\n",
       "      <th>log-likelihood ratio test</th>\n",
       "      <td>436.10 on 10 df</td>\n",
       "    </tr>\n",
       "    <tr>\n",
       "      <th>-log2(p) of ll-ratio test</th>\n",
       "      <td>288.06</td>\n",
       "    </tr>\n",
       "  </tbody>\n",
       "</table>\n",
       "</div>"
      ],
      "text/latex": [
       "\\begin{tabular}{lrrrrrrrrrrr}\n",
       " & coef & exp(coef) & se(coef) & coef lower 95% & coef upper 95% & exp(coef) lower 95% & exp(coef) upper 95% & cmp to & z & p & -log2(p) \\\\\n",
       "covariate &  &  &  &  &  &  &  &  &  &  &  \\\\\n",
       "age & 0.08 & 1.09 & 0.00 & 0.08 & 0.09 & 1.08 & 1.10 & 0.00 & 20.88 & 0.00 & 319.21 \\\\\n",
       "gender & -0.02 & 0.99 & 0.05 & -0.10 & 0.07 & 0.90 & 1.08 & 0.00 & -0.34 & 0.74 & 0.44 \\\\\n",
       "race_2 & 0.26 & 1.30 & 0.10 & 0.06 & 0.46 & 1.06 & 1.58 & 0.00 & 2.56 & 0.01 & 6.59 \\\\\n",
       "race_3 & -0.21 & 0.81 & 0.17 & -0.54 & 0.12 & 0.58 & 1.13 & 0.00 & -1.24 & 0.22 & 2.21 \\\\\n",
       "race_4 & 0.41 & 1.50 & 0.32 & -0.22 & 1.03 & 0.81 & 2.79 & 0.00 & 1.28 & 0.20 & 2.32 \\\\\n",
       "race_5 & -0.28 & 0.76 & 0.45 & -1.16 & 0.60 & 0.31 & 1.82 & 0.00 & -0.62 & 0.53 & 0.91 \\\\\n",
       "race_6 & -0.07 & 0.93 & 0.21 & -0.49 & 0.35 & 0.61 & 1.42 & 0.00 & -0.33 & 0.74 & 0.43 \\\\\n",
       "race_7 & -1.39 & 0.25 & 1.00 & -3.35 & 0.57 & 0.04 & 1.77 & 0.00 & -1.39 & 0.16 & 2.61 \\\\\n",
       "race_95 & 0.99 & 2.70 & 0.33 & 0.34 & 1.65 & 1.40 & 5.19 & 0.00 & 2.97 & 0.00 & 8.39 \\\\\n",
       "race_99 & -0.33 & 0.72 & 0.71 & -1.72 & 1.05 & 0.18 & 2.87 & 0.00 & -0.47 & 0.64 & 0.65 \\\\\n",
       "\\end{tabular}\n"
      ],
      "text/plain": [
       "<lifelines.CoxPHFitter: fitted with 53447 total observations, 51389 right-censored observations>\n",
       "             duration col = 'time'\n",
       "                event col = 'lung_cancer'\n",
       "      baseline estimation = breslow\n",
       "   number of observations = 53447\n",
       "number of events observed = 2058\n",
       "   partial log-likelihood = -22010.94\n",
       "         time fit was run = 2024-01-05 15:18:24 UTC\n",
       "\n",
       "---\n",
       "            coef  exp(coef)   se(coef)   coef lower 95%   coef upper 95%  exp(coef) lower 95%  exp(coef) upper 95%\n",
       "covariate                                                                                                         \n",
       "age         0.08       1.09       0.00             0.08             0.09                 1.08                 1.10\n",
       "gender     -0.02       0.99       0.05            -0.10             0.07                 0.90                 1.08\n",
       "race_2      0.26       1.30       0.10             0.06             0.46                 1.06                 1.58\n",
       "race_3     -0.21       0.81       0.17            -0.54             0.12                 0.58                 1.13\n",
       "race_4      0.41       1.50       0.32            -0.22             1.03                 0.81                 2.79\n",
       "race_5     -0.28       0.76       0.45            -1.16             0.60                 0.31                 1.82\n",
       "race_6     -0.07       0.93       0.21            -0.49             0.35                 0.61                 1.42\n",
       "race_7     -1.39       0.25       1.00            -3.35             0.57                 0.04                 1.77\n",
       "race_95     0.99       2.70       0.33             0.34             1.65                 1.40                 5.19\n",
       "race_99    -0.33       0.72       0.71            -1.72             1.05                 0.18                 2.87\n",
       "\n",
       "            cmp to     z      p   -log2(p)\n",
       "covariate                                 \n",
       "age           0.00 20.88 <0.005     319.21\n",
       "gender        0.00 -0.34   0.74       0.44\n",
       "race_2        0.00  2.56   0.01       6.59\n",
       "race_3        0.00 -1.24   0.22       2.21\n",
       "race_4        0.00  1.28   0.20       2.32\n",
       "race_5        0.00 -0.62   0.53       0.91\n",
       "race_6        0.00 -0.33   0.74       0.43\n",
       "race_7        0.00 -1.39   0.16       2.61\n",
       "race_95       0.00  2.97 <0.005       8.39\n",
       "race_99       0.00 -0.47   0.64       0.65\n",
       "---\n",
       "Concordance = 0.50\n",
       "Partial AIC = 44041.88\n",
       "log-likelihood ratio test = 436.10 on 10 df\n",
       "-log2(p) of ll-ratio test = 288.06"
      ]
     },
     "metadata": {},
     "output_type": "display_data"
    }
   ],
   "source": [
    "cph = CoxPHFitter()\n",
    "cph.fit(final_data_, duration_col = 'time', event_col = 'lung_cancer')\n",
    "cph.print_summary()"
   ]
  },
  {
   "cell_type": "code",
   "execution_count": 47,
   "id": "59166010",
   "metadata": {},
   "outputs": [
    {
     "data": {
      "text/plain": [
       "<Axes: xlabel='log(HR) (95% CI)'>"
      ]
     },
     "execution_count": 47,
     "metadata": {},
     "output_type": "execute_result"
    },
    {
     "data": {
      "image/png": "[encoded data removed]",
      "text/plain": [
       "<Figure size 1000x600 with 1 Axes>"
      ]
     },
     "metadata": {},
     "output_type": "display_data"
    }
   ],
   "source": [
    "plt.subplots(figsize = (10, 6))\n",
    "cph.plot()"
   ]
  },
  {
   "cell_type": "code",
   "execution_count": 82,
   "id": "b87a9f42",
   "metadata": {},
   "outputs": [],
   "source": [
    "test = [[66,0,0,0,0,0,0,0,0,0]]"
   ]
  },
  {
   "cell_type": "code",
   "execution_count": 83,
   "id": "7a01e7d7",
   "metadata": {},
   "outputs": [],
   "source": [
    "test_pd = pd.DataFrame(test, \n",
    "        columns=[\n",
    "            \"age\",\n",
    "            \"gender\",\n",
    "            \"race_2\",\n",
    "            \"race_3\",\n",
    "            \"race_4\",\n",
    "            \"race_5\",\n",
    "            \"race_6\",\n",
    "            \"race_7\",\n",
    "            \"race_95\",\n",
    "            \"race_99\"\n",
    "        ])"
   ]
  },
  {
   "cell_type": "code",
   "execution_count": 84,
   "id": "bcc11baa",
   "metadata": {},
   "outputs": [
    {
     "data": {
      "text/html": [
       "<div>\n",
       "<style scoped>\n",
       "    .dataframe tbody tr th:only-of-type {\n",
       "        vertical-align: middle;\n",
       "    }\n",
       "\n",
       "    .dataframe tbody tr th {\n",
       "        vertical-align: top;\n",
       "    }\n",
       "\n",
       "    .dataframe thead th {\n",
       "        text-align: right;\n",
       "    }\n",
       "</style>\n",
       "<table border=\"1\" class=\"dataframe\">\n",
       "  <thead>\n",
       "    <tr style=\"text-align: right;\">\n",
       "      <th></th>\n",
       "      <th>0</th>\n",
       "    </tr>\n",
       "  </thead>\n",
       "  <tbody>\n",
       "    <tr>\n",
       "      <th>250.0</th>\n",
       "      <td>0.989348</td>\n",
       "    </tr>\n",
       "    <tr>\n",
       "      <th>500.0</th>\n",
       "      <td>0.983641</td>\n",
       "    </tr>\n",
       "    <tr>\n",
       "      <th>1000.0</th>\n",
       "      <td>0.972260</td>\n",
       "    </tr>\n",
       "  </tbody>\n",
       "</table>\n",
       "</div>"
      ],
      "text/plain": [
       "               0\n",
       "250.0   0.989348\n",
       "500.0   0.983641\n",
       "1000.0  0.972260"
      ]
     },
     "execution_count": 84,
     "metadata": {},
     "output_type": "execute_result"
    }
   ],
   "source": [
    "cph.predict_survival_function(test_pd, times=[250,500,1000])"
   ]
  },
  {
   "cell_type": "code",
   "execution_count": null,
   "id": "37a6a752",
   "metadata": {},
   "outputs": [],
   "source": [
    "##################################################################"
   ]
  },
  {
   "cell_type": "code",
   "execution_count": 42,
   "id": "4522726a",
   "metadata": {},
   "outputs": [],
   "source": [
    "from lifelines import WeibullFitter,\\\n",
    "                      ExponentialFitter,\\\n",
    "                      LogNormalFitter,\\\n",
    "                      LogLogisticFitter"
   ]
  },
  {
   "cell_type": "code",
   "execution_count": 54,
   "id": "267ab486",
   "metadata": {},
   "outputs": [
    {
     "data": {
      "text/html": [
       "<div>\n",
       "<style scoped>\n",
       "    .dataframe tbody tr th:only-of-type {\n",
       "        vertical-align: middle;\n",
       "    }\n",
       "\n",
       "    .dataframe tbody tr th {\n",
       "        vertical-align: top;\n",
       "    }\n",
       "\n",
       "    .dataframe thead th {\n",
       "        text-align: right;\n",
       "    }\n",
       "</style>\n",
       "<table border=\"1\" class=\"dataframe\">\n",
       "  <thead>\n",
       "    <tr style=\"text-align: right;\">\n",
       "      <th></th>\n",
       "      <th>age</th>\n",
       "      <th>gender</th>\n",
       "      <th>time</th>\n",
       "      <th>lung_cancer</th>\n",
       "      <th>race_2</th>\n",
       "      <th>race_3</th>\n",
       "      <th>race_4</th>\n",
       "      <th>race_5</th>\n",
       "      <th>race_6</th>\n",
       "      <th>race_7</th>\n",
       "      <th>race_95</th>\n",
       "      <th>race_99</th>\n",
       "    </tr>\n",
       "    <tr>\n",
       "      <th>cen</th>\n",
       "      <th></th>\n",
       "      <th></th>\n",
       "      <th></th>\n",
       "      <th></th>\n",
       "      <th></th>\n",
       "      <th></th>\n",
       "      <th></th>\n",
       "      <th></th>\n",
       "      <th></th>\n",
       "      <th></th>\n",
       "      <th></th>\n",
       "      <th></th>\n",
       "    </tr>\n",
       "  </thead>\n",
       "  <tbody>\n",
       "    <tr>\n",
       "      <th>BG</th>\n",
       "      <td>70</td>\n",
       "      <td>1</td>\n",
       "      <td>2353.0</td>\n",
       "      <td>0</td>\n",
       "      <td>0</td>\n",
       "      <td>0</td>\n",
       "      <td>0</td>\n",
       "      <td>0</td>\n",
       "      <td>0</td>\n",
       "      <td>0</td>\n",
       "      <td>0</td>\n",
       "      <td>0</td>\n",
       "    </tr>\n",
       "    <tr>\n",
       "      <th>AF</th>\n",
       "      <td>66</td>\n",
       "      <td>1</td>\n",
       "      <td>2391.0</td>\n",
       "      <td>0</td>\n",
       "      <td>0</td>\n",
       "      <td>0</td>\n",
       "      <td>0</td>\n",
       "      <td>0</td>\n",
       "      <td>0</td>\n",
       "      <td>0</td>\n",
       "      <td>0</td>\n",
       "      <td>0</td>\n",
       "    </tr>\n",
       "    <tr>\n",
       "      <th>AR</th>\n",
       "      <td>64</td>\n",
       "      <td>1</td>\n",
       "      <td>2381.0</td>\n",
       "      <td>0</td>\n",
       "      <td>0</td>\n",
       "      <td>0</td>\n",
       "      <td>0</td>\n",
       "      <td>0</td>\n",
       "      <td>0</td>\n",
       "      <td>0</td>\n",
       "      <td>0</td>\n",
       "      <td>0</td>\n",
       "    </tr>\n",
       "    <tr>\n",
       "      <th>AF</th>\n",
       "      <td>60</td>\n",
       "      <td>1</td>\n",
       "      <td>2688.0</td>\n",
       "      <td>0</td>\n",
       "      <td>0</td>\n",
       "      <td>0</td>\n",
       "      <td>0</td>\n",
       "      <td>0</td>\n",
       "      <td>0</td>\n",
       "      <td>0</td>\n",
       "      <td>0</td>\n",
       "      <td>0</td>\n",
       "    </tr>\n",
       "    <tr>\n",
       "      <th>AA</th>\n",
       "      <td>64</td>\n",
       "      <td>1</td>\n",
       "      <td>2435.0</td>\n",
       "      <td>0</td>\n",
       "      <td>0</td>\n",
       "      <td>0</td>\n",
       "      <td>0</td>\n",
       "      <td>0</td>\n",
       "      <td>0</td>\n",
       "      <td>0</td>\n",
       "      <td>0</td>\n",
       "      <td>0</td>\n",
       "    </tr>\n",
       "  </tbody>\n",
       "</table>\n",
       "</div>"
      ],
      "text/plain": [
       "     age  gender    time  lung_cancer  race_2  race_3  race_4  race_5  race_6  \\\n",
       "cen                                                                             \n",
       "BG    70       1  2353.0            0       0       0       0       0       0   \n",
       "AF    66       1  2391.0            0       0       0       0       0       0   \n",
       "AR    64       1  2381.0            0       0       0       0       0       0   \n",
       "AF    60       1  2688.0            0       0       0       0       0       0   \n",
       "AA    64       1  2435.0            0       0       0       0       0       0   \n",
       "\n",
       "     race_7  race_95  race_99  \n",
       "cen                            \n",
       "BG        0        0        0  \n",
       "AF        0        0        0  \n",
       "AR        0        0        0  \n",
       "AF        0        0        0  \n",
       "AA        0        0        0  "
      ]
     },
     "execution_count": 54,
     "metadata": {},
     "output_type": "execute_result"
    }
   ],
   "source": [
    "final_data_.head()"
   ]
  },
  {
   "cell_type": "code",
   "execution_count": 55,
   "id": "fe28344b",
   "metadata": {},
   "outputs": [],
   "source": [
    "non_positive_durations = final_data_[\"time\"] <= 0"
   ]
  },
  {
   "cell_type": "code",
   "execution_count": 56,
   "id": "24d6576f",
   "metadata": {},
   "outputs": [
    {
     "data": {
      "text/plain": [
       "414"
      ]
     },
     "execution_count": 56,
     "metadata": {},
     "output_type": "execute_result"
    }
   ],
   "source": [
    "non_positive_durations.sum()"
   ]
  },
  {
   "cell_type": "code",
   "execution_count": 57,
   "id": "3e36bcf6",
   "metadata": {},
   "outputs": [
    {
     "data": {
      "text/plain": [
       "122102792.0"
      ]
     },
     "execution_count": 57,
     "metadata": {},
     "output_type": "execute_result"
    }
   ],
   "source": [
    "final_data_[\"time\"].sum()"
   ]
  },
  {
   "cell_type": "code",
   "execution_count": 59,
   "id": "afd13f79",
   "metadata": {},
   "outputs": [],
   "source": [
    "final_data_[\"time_adjusted\"] = final_data_[\"time\"].replace(to_replace=0, value=0.1)"
   ]
  },
  {
   "cell_type": "code",
   "execution_count": 63,
   "id": "001c32ec",
   "metadata": {},
   "outputs": [
    {
     "data": {
      "text/html": [
       "<div>\n",
       "<style scoped>\n",
       "    .dataframe tbody tr th:only-of-type {\n",
       "        vertical-align: middle;\n",
       "    }\n",
       "\n",
       "    .dataframe tbody tr th {\n",
       "        vertical-align: top;\n",
       "    }\n",
       "\n",
       "    .dataframe thead th {\n",
       "        text-align: right;\n",
       "    }\n",
       "</style>\n",
       "<table border=\"1\" class=\"dataframe\">\n",
       "  <thead>\n",
       "    <tr style=\"text-align: right;\">\n",
       "      <th></th>\n",
       "      <th>age</th>\n",
       "      <th>gender</th>\n",
       "      <th>time</th>\n",
       "      <th>lung_cancer</th>\n",
       "      <th>race_2</th>\n",
       "      <th>race_3</th>\n",
       "      <th>race_4</th>\n",
       "      <th>race_5</th>\n",
       "      <th>race_6</th>\n",
       "      <th>race_7</th>\n",
       "      <th>race_95</th>\n",
       "      <th>race_99</th>\n",
       "      <th>time_adjusted</th>\n",
       "    </tr>\n",
       "    <tr>\n",
       "      <th>cen</th>\n",
       "      <th></th>\n",
       "      <th></th>\n",
       "      <th></th>\n",
       "      <th></th>\n",
       "      <th></th>\n",
       "      <th></th>\n",
       "      <th></th>\n",
       "      <th></th>\n",
       "      <th></th>\n",
       "      <th></th>\n",
       "      <th></th>\n",
       "      <th></th>\n",
       "      <th></th>\n",
       "    </tr>\n",
       "  </thead>\n",
       "  <tbody>\n",
       "    <tr>\n",
       "      <th>BG</th>\n",
       "      <td>70</td>\n",
       "      <td>1</td>\n",
       "      <td>2353.0</td>\n",
       "      <td>0</td>\n",
       "      <td>0</td>\n",
       "      <td>0</td>\n",
       "      <td>0</td>\n",
       "      <td>0</td>\n",
       "      <td>0</td>\n",
       "      <td>0</td>\n",
       "      <td>0</td>\n",
       "      <td>0</td>\n",
       "      <td>2353.0</td>\n",
       "    </tr>\n",
       "    <tr>\n",
       "      <th>AF</th>\n",
       "      <td>66</td>\n",
       "      <td>1</td>\n",
       "      <td>2391.0</td>\n",
       "      <td>0</td>\n",
       "      <td>0</td>\n",
       "      <td>0</td>\n",
       "      <td>0</td>\n",
       "      <td>0</td>\n",
       "      <td>0</td>\n",
       "      <td>0</td>\n",
       "      <td>0</td>\n",
       "      <td>0</td>\n",
       "      <td>2391.0</td>\n",
       "    </tr>\n",
       "    <tr>\n",
       "      <th>AR</th>\n",
       "      <td>64</td>\n",
       "      <td>1</td>\n",
       "      <td>2381.0</td>\n",
       "      <td>0</td>\n",
       "      <td>0</td>\n",
       "      <td>0</td>\n",
       "      <td>0</td>\n",
       "      <td>0</td>\n",
       "      <td>0</td>\n",
       "      <td>0</td>\n",
       "      <td>0</td>\n",
       "      <td>0</td>\n",
       "      <td>2381.0</td>\n",
       "    </tr>\n",
       "    <tr>\n",
       "      <th>AF</th>\n",
       "      <td>60</td>\n",
       "      <td>1</td>\n",
       "      <td>2688.0</td>\n",
       "      <td>0</td>\n",
       "      <td>0</td>\n",
       "      <td>0</td>\n",
       "      <td>0</td>\n",
       "      <td>0</td>\n",
       "      <td>0</td>\n",
       "      <td>0</td>\n",
       "      <td>0</td>\n",
       "      <td>0</td>\n",
       "      <td>2688.0</td>\n",
       "    </tr>\n",
       "    <tr>\n",
       "      <th>AA</th>\n",
       "      <td>64</td>\n",
       "      <td>1</td>\n",
       "      <td>2435.0</td>\n",
       "      <td>0</td>\n",
       "      <td>0</td>\n",
       "      <td>0</td>\n",
       "      <td>0</td>\n",
       "      <td>0</td>\n",
       "      <td>0</td>\n",
       "      <td>0</td>\n",
       "      <td>0</td>\n",
       "      <td>0</td>\n",
       "      <td>2435.0</td>\n",
       "    </tr>\n",
       "  </tbody>\n",
       "</table>\n",
       "</div>"
      ],
      "text/plain": [
       "     age  gender    time  lung_cancer  race_2  race_3  race_4  race_5  race_6  \\\n",
       "cen                                                                             \n",
       "BG    70       1  2353.0            0       0       0       0       0       0   \n",
       "AF    66       1  2391.0            0       0       0       0       0       0   \n",
       "AR    64       1  2381.0            0       0       0       0       0       0   \n",
       "AF    60       1  2688.0            0       0       0       0       0       0   \n",
       "AA    64       1  2435.0            0       0       0       0       0       0   \n",
       "\n",
       "     race_7  race_95  race_99  time_adjusted  \n",
       "cen                                           \n",
       "BG        0        0        0         2353.0  \n",
       "AF        0        0        0         2391.0  \n",
       "AR        0        0        0         2381.0  \n",
       "AF        0        0        0         2688.0  \n",
       "AA        0        0        0         2435.0  "
      ]
     },
     "execution_count": 63,
     "metadata": {},
     "output_type": "execute_result"
    }
   ],
   "source": [
    "final_data_.head()"
   ]
  },
  {
   "cell_type": "code",
   "execution_count": 62,
   "id": "bef67015",
   "metadata": {},
   "outputs": [
    {
     "data": {
      "text/plain": [
       "0"
      ]
     },
     "execution_count": 62,
     "metadata": {},
     "output_type": "execute_result"
    }
   ],
   "source": [
    "non_positive_durations_ = final_data_[\"time_adjusted\"] <= 0\n",
    "non_positive_durations_.sum()"
   ]
  },
  {
   "cell_type": "code",
   "execution_count": 64,
   "id": "e8c47b37",
   "metadata": {},
   "outputs": [],
   "source": [
    "AFT_columns = ['age','gender', 'lung_cancer', 'race_2', 'race_3', 'race_4', 'race_5', 'race_6', 'race_7', 'race_95', 'race_99', 'time_adjusted'] "
   ]
  },
  {
   "cell_type": "code",
   "execution_count": 65,
   "id": "717d57fc",
   "metadata": {},
   "outputs": [],
   "source": [
    "AFT_data = final_data_[AFT_columns]"
   ]
  },
  {
   "cell_type": "code",
   "execution_count": 66,
   "id": "4c8901fb",
   "metadata": {},
   "outputs": [
    {
     "data": {
      "text/html": [
       "<div>\n",
       "<style scoped>\n",
       "    .dataframe tbody tr th:only-of-type {\n",
       "        vertical-align: middle;\n",
       "    }\n",
       "\n",
       "    .dataframe tbody tr th {\n",
       "        vertical-align: top;\n",
       "    }\n",
       "\n",
       "    .dataframe thead th {\n",
       "        text-align: right;\n",
       "    }\n",
       "</style>\n",
       "<table border=\"1\" class=\"dataframe\">\n",
       "  <thead>\n",
       "    <tr style=\"text-align: right;\">\n",
       "      <th></th>\n",
       "      <th>age</th>\n",
       "      <th>gender</th>\n",
       "      <th>lung_cancer</th>\n",
       "      <th>race_2</th>\n",
       "      <th>race_3</th>\n",
       "      <th>race_4</th>\n",
       "      <th>race_5</th>\n",
       "      <th>race_6</th>\n",
       "      <th>race_7</th>\n",
       "      <th>race_95</th>\n",
       "      <th>race_99</th>\n",
       "      <th>time_adjusted</th>\n",
       "    </tr>\n",
       "    <tr>\n",
       "      <th>cen</th>\n",
       "      <th></th>\n",
       "      <th></th>\n",
       "      <th></th>\n",
       "      <th></th>\n",
       "      <th></th>\n",
       "      <th></th>\n",
       "      <th></th>\n",
       "      <th></th>\n",
       "      <th></th>\n",
       "      <th></th>\n",
       "      <th></th>\n",
       "      <th></th>\n",
       "    </tr>\n",
       "  </thead>\n",
       "  <tbody>\n",
       "    <tr>\n",
       "      <th>BG</th>\n",
       "      <td>70</td>\n",
       "      <td>1</td>\n",
       "      <td>0</td>\n",
       "      <td>0</td>\n",
       "      <td>0</td>\n",
       "      <td>0</td>\n",
       "      <td>0</td>\n",
       "      <td>0</td>\n",
       "      <td>0</td>\n",
       "      <td>0</td>\n",
       "      <td>0</td>\n",
       "      <td>2353.0</td>\n",
       "    </tr>\n",
       "    <tr>\n",
       "      <th>AF</th>\n",
       "      <td>66</td>\n",
       "      <td>1</td>\n",
       "      <td>0</td>\n",
       "      <td>0</td>\n",
       "      <td>0</td>\n",
       "      <td>0</td>\n",
       "      <td>0</td>\n",
       "      <td>0</td>\n",
       "      <td>0</td>\n",
       "      <td>0</td>\n",
       "      <td>0</td>\n",
       "      <td>2391.0</td>\n",
       "    </tr>\n",
       "    <tr>\n",
       "      <th>AR</th>\n",
       "      <td>64</td>\n",
       "      <td>1</td>\n",
       "      <td>0</td>\n",
       "      <td>0</td>\n",
       "      <td>0</td>\n",
       "      <td>0</td>\n",
       "      <td>0</td>\n",
       "      <td>0</td>\n",
       "      <td>0</td>\n",
       "      <td>0</td>\n",
       "      <td>0</td>\n",
       "      <td>2381.0</td>\n",
       "    </tr>\n",
       "    <tr>\n",
       "      <th>AF</th>\n",
       "      <td>60</td>\n",
       "      <td>1</td>\n",
       "      <td>0</td>\n",
       "      <td>0</td>\n",
       "      <td>0</td>\n",
       "      <td>0</td>\n",
       "      <td>0</td>\n",
       "      <td>0</td>\n",
       "      <td>0</td>\n",
       "      <td>0</td>\n",
       "      <td>0</td>\n",
       "      <td>2688.0</td>\n",
       "    </tr>\n",
       "    <tr>\n",
       "      <th>AA</th>\n",
       "      <td>64</td>\n",
       "      <td>1</td>\n",
       "      <td>0</td>\n",
       "      <td>0</td>\n",
       "      <td>0</td>\n",
       "      <td>0</td>\n",
       "      <td>0</td>\n",
       "      <td>0</td>\n",
       "      <td>0</td>\n",
       "      <td>0</td>\n",
       "      <td>0</td>\n",
       "      <td>2435.0</td>\n",
       "    </tr>\n",
       "  </tbody>\n",
       "</table>\n",
       "</div>"
      ],
      "text/plain": [
       "     age  gender  lung_cancer  race_2  race_3  race_4  race_5  race_6  race_7  \\\n",
       "cen                                                                             \n",
       "BG    70       1            0       0       0       0       0       0       0   \n",
       "AF    66       1            0       0       0       0       0       0       0   \n",
       "AR    64       1            0       0       0       0       0       0       0   \n",
       "AF    60       1            0       0       0       0       0       0       0   \n",
       "AA    64       1            0       0       0       0       0       0       0   \n",
       "\n",
       "     race_95  race_99  time_adjusted  \n",
       "cen                                   \n",
       "BG         0        0         2353.0  \n",
       "AF         0        0         2391.0  \n",
       "AR         0        0         2381.0  \n",
       "AF         0        0         2688.0  \n",
       "AA         0        0         2435.0  "
      ]
     },
     "execution_count": 66,
     "metadata": {},
     "output_type": "execute_result"
    }
   ],
   "source": [
    "AFT_data.head()"
   ]
  },
  {
   "cell_type": "code",
   "execution_count": 71,
   "id": "39d2c55b",
   "metadata": {},
   "outputs": [
    {
     "name": "stdout",
     "output_type": "stream",
     "text": [
      "The AIC value for WeibullFitter is 49175.46684266222\n",
      "The AIC value for ExponentialFitter is 49356.479482394054\n",
      "The AIC value for LogNormalFitter is 49198.26826631989\n",
      "The AIC value for LogLogisticFitter is 49176.486305658414\n"
     ]
    }
   ],
   "source": [
    "wb = WeibullFitter()\n",
    "ex = ExponentialFitter()\n",
    "log = LogNormalFitter()\n",
    "loglogis = LogLogisticFitter()\n",
    "for model in [wb, ex, log, loglogis]:\n",
    "    model.fit(durations = AFT_data[\"time_adjusted\"], event_observed = AFT_data[\"lung_cancer\"])\n",
    "    print(\"The AIC value for\", model.__class__.__name__, \"is\",  model.AIC_)"
   ]
  },
  {
   "cell_type": "code",
   "execution_count": 72,
   "id": "6b1db583",
   "metadata": {},
   "outputs": [],
   "source": [
    "from lifelines import WeibullAFTFitter"
   ]
  },
  {
   "cell_type": "code",
   "execution_count": 76,
   "id": "cea41459",
   "metadata": {},
   "outputs": [
    {
     "name": "stderr",
     "output_type": "stream",
     "text": [
      "C:\\Users\\mehak\\anaconda3\\Lib\\site-packages\\lifelines\\utils\\__init__.py:935: UserWarning: DataFrame Index is not unique, defaulting to incrementing index instead.\n",
      "  warnings.warn(\"DataFrame Index is not unique, defaulting to incrementing index instead.\")\n"
     ]
    },
    {
     "ename": "ValueError",
     "evalue": "cannot reindex on an axis with duplicate labels",
     "output_type": "error",
     "traceback": [
      "\u001b[1;31m---------------------------------------------------------------------------\u001b[0m",
      "\u001b[1;31mValueError\u001b[0m                                Traceback (most recent call last)",
      "Cell \u001b[1;32mIn[76], line 2\u001b[0m\n\u001b[0;32m      1\u001b[0m weibull_aft \u001b[38;5;241m=\u001b[39m WeibullAFTFitter()\n\u001b[1;32m----> 2\u001b[0m weibull_aft\u001b[38;5;241m.\u001b[39mfit(AFT_data, duration_col\u001b[38;5;241m=\u001b[39m\u001b[38;5;124m'\u001b[39m\u001b[38;5;124mtime_adjusted\u001b[39m\u001b[38;5;124m'\u001b[39m, event_col\u001b[38;5;241m=\u001b[39m\u001b[38;5;124m'\u001b[39m\u001b[38;5;124mlung_cancer\u001b[39m\u001b[38;5;124m'\u001b[39m)\n",
      "File \u001b[1;32m~\\anaconda3\\Lib\\site-packages\\lifelines\\utils\\__init__.py:56\u001b[0m, in \u001b[0;36mCensoringType.right_censoring.<locals>.f\u001b[1;34m(model, *args, **kwargs)\u001b[0m\n\u001b[0;32m     53\u001b[0m \u001b[38;5;129m@wraps\u001b[39m(function)\n\u001b[0;32m     54\u001b[0m \u001b[38;5;28;01mdef\u001b[39;00m \u001b[38;5;21mf\u001b[39m(model, \u001b[38;5;241m*\u001b[39margs, \u001b[38;5;241m*\u001b[39m\u001b[38;5;241m*\u001b[39mkwargs):\n\u001b[0;32m     55\u001b[0m     \u001b[38;5;28mcls\u001b[39m\u001b[38;5;241m.\u001b[39mset_censoring_type(model, \u001b[38;5;28mcls\u001b[39m\u001b[38;5;241m.\u001b[39mRIGHT)\n\u001b[1;32m---> 56\u001b[0m     \u001b[38;5;28;01mreturn\u001b[39;00m function(model, \u001b[38;5;241m*\u001b[39margs, \u001b[38;5;241m*\u001b[39m\u001b[38;5;241m*\u001b[39mkwargs)\n",
      "File \u001b[1;32m~\\anaconda3\\Lib\\site-packages\\lifelines\\fitters\\__init__.py:2872\u001b[0m, in \u001b[0;36mParametericAFTRegressionFitter.fit\u001b[1;34m(self, df, duration_col, event_col, ancillary, fit_intercept, show_progress, timeline, weights_col, robust, initial_point, entry_col, formula, fit_options)\u001b[0m\n\u001b[0;32m   2869\u001b[0m \u001b[38;5;28;01melif\u001b[39;00m (ancillary \u001b[38;5;129;01mis\u001b[39;00m \u001b[38;5;28;01mNone\u001b[39;00m) \u001b[38;5;129;01mor\u001b[39;00m (ancillary \u001b[38;5;129;01mis\u001b[39;00m \u001b[38;5;28;01mFalse\u001b[39;00m):\n\u001b[0;32m   2870\u001b[0m     regressors[\u001b[38;5;28mself\u001b[39m\u001b[38;5;241m.\u001b[39m_ancillary_parameter_name] \u001b[38;5;241m=\u001b[39m \u001b[38;5;124m\"\u001b[39m\u001b[38;5;124m1\u001b[39m\u001b[38;5;124m\"\u001b[39m\n\u001b[1;32m-> 2872\u001b[0m \u001b[38;5;28msuper\u001b[39m(ParametericAFTRegressionFitter, \u001b[38;5;28mself\u001b[39m)\u001b[38;5;241m.\u001b[39m_fit(\n\u001b[0;32m   2873\u001b[0m     \u001b[38;5;28mself\u001b[39m\u001b[38;5;241m.\u001b[39m_log_likelihood_right_censoring,\n\u001b[0;32m   2874\u001b[0m     df,\n\u001b[0;32m   2875\u001b[0m     (T\u001b[38;5;241m.\u001b[39mvalues, \u001b[38;5;28;01mNone\u001b[39;00m),\n\u001b[0;32m   2876\u001b[0m     event_col\u001b[38;5;241m=\u001b[39mevent_col,\n\u001b[0;32m   2877\u001b[0m     regressors\u001b[38;5;241m=\u001b[39mregressors,\n\u001b[0;32m   2878\u001b[0m     show_progress\u001b[38;5;241m=\u001b[39mshow_progress,\n\u001b[0;32m   2879\u001b[0m     timeline\u001b[38;5;241m=\u001b[39mtimeline,\n\u001b[0;32m   2880\u001b[0m     weights_col\u001b[38;5;241m=\u001b[39mweights_col,\n\u001b[0;32m   2881\u001b[0m     robust\u001b[38;5;241m=\u001b[39mrobust,\n\u001b[0;32m   2882\u001b[0m     initial_point\u001b[38;5;241m=\u001b[39minitial_point,\n\u001b[0;32m   2883\u001b[0m     entry_col\u001b[38;5;241m=\u001b[39mentry_col,\n\u001b[0;32m   2884\u001b[0m     fit_options\u001b[38;5;241m=\u001b[39mfit_options,\n\u001b[0;32m   2885\u001b[0m )\n\u001b[0;32m   2886\u001b[0m \u001b[38;5;28;01mreturn\u001b[39;00m \u001b[38;5;28mself\u001b[39m\n",
      "File \u001b[1;32m~\\anaconda3\\Lib\\site-packages\\lifelines\\fitters\\__init__.py:1860\u001b[0m, in \u001b[0;36mParametricRegressionFitter._fit\u001b[1;34m(self, log_likelihood_function, df, Ts, regressors, event_col, show_progress, timeline, weights_col, robust, initial_point, entry_col, fit_options)\u001b[0m\n\u001b[0;32m   1858\u001b[0m \u001b[38;5;28mself\u001b[39m\u001b[38;5;241m.\u001b[39mconfidence_intervals_ \u001b[38;5;241m=\u001b[39m \u001b[38;5;28mself\u001b[39m\u001b[38;5;241m.\u001b[39m_compute_confidence_intervals()\n\u001b[0;32m   1859\u001b[0m \u001b[38;5;28;01mif\u001b[39;00m \u001b[38;5;28mself\u001b[39m\u001b[38;5;241m.\u001b[39m_FAST_MEDIAN_PREDICT:\n\u001b[1;32m-> 1860\u001b[0m     \u001b[38;5;28mself\u001b[39m\u001b[38;5;241m.\u001b[39m_predicted_median \u001b[38;5;241m=\u001b[39m \u001b[38;5;28mself\u001b[39m\u001b[38;5;241m.\u001b[39mpredict_median(df)\n\u001b[0;32m   1861\u001b[0m \u001b[38;5;28;01mreturn\u001b[39;00m \u001b[38;5;28mself\u001b[39m\n",
      "File \u001b[1;32m~\\anaconda3\\Lib\\site-packages\\lifelines\\fitters\\__init__.py:3511\u001b[0m, in \u001b[0;36mParametericAFTRegressionFitter.predict_median\u001b[1;34m(self, df, ancillary, conditional_after)\u001b[0m\n\u001b[0;32m   3485\u001b[0m \u001b[38;5;28;01mdef\u001b[39;00m \u001b[38;5;21mpredict_median\u001b[39m(\u001b[38;5;28mself\u001b[39m, df, \u001b[38;5;241m*\u001b[39m, ancillary\u001b[38;5;241m=\u001b[39m\u001b[38;5;28;01mNone\u001b[39;00m, conditional_after\u001b[38;5;241m=\u001b[39m\u001b[38;5;28;01mNone\u001b[39;00m) \u001b[38;5;241m-\u001b[39m\u001b[38;5;241m>\u001b[39m pd\u001b[38;5;241m.\u001b[39mDataFrame:\n\u001b[0;32m   3486\u001b[0m \u001b[38;5;250m    \u001b[39m\u001b[38;5;124;03m\"\"\"\u001b[39;00m\n\u001b[0;32m   3487\u001b[0m \u001b[38;5;124;03m    Predict the median lifetimes for the individuals. If the survival curve of an\u001b[39;00m\n\u001b[0;32m   3488\u001b[0m \u001b[38;5;124;03m    individual does not cross 0.5, then the result is infinity.\u001b[39;00m\n\u001b[1;32m   (...)\u001b[0m\n\u001b[0;32m   3508\u001b[0m \n\u001b[0;32m   3509\u001b[0m \u001b[38;5;124;03m    \"\"\"\u001b[39;00m\n\u001b[1;32m-> 3511\u001b[0m     \u001b[38;5;28;01mreturn\u001b[39;00m \u001b[38;5;28mself\u001b[39m\u001b[38;5;241m.\u001b[39mpredict_percentile(df, ancillary\u001b[38;5;241m=\u001b[39mancillary, p\u001b[38;5;241m=\u001b[39m\u001b[38;5;241m0.5\u001b[39m, conditional_after\u001b[38;5;241m=\u001b[39mconditional_after)\n",
      "File \u001b[1;32m~\\anaconda3\\Lib\\site-packages\\lifelines\\fitters\\weibull_aft_fitter.py:166\u001b[0m, in \u001b[0;36mWeibullAFTFitter.predict_percentile\u001b[1;34m(self, df, ancillary, p, conditional_after)\u001b[0m\n\u001b[0;32m    163\u001b[0m \u001b[38;5;28;01melif\u001b[39;00m conditional_after \u001b[38;5;129;01mis\u001b[39;00m \u001b[38;5;28;01mNone\u001b[39;00m \u001b[38;5;129;01mand\u001b[39;00m \u001b[38;5;28mlen\u001b[39m(df\u001b[38;5;241m.\u001b[39mshape) \u001b[38;5;241m==\u001b[39m \u001b[38;5;241m1\u001b[39m:\n\u001b[0;32m    164\u001b[0m     conditional_after \u001b[38;5;241m=\u001b[39m np\u001b[38;5;241m.\u001b[39mzeros(\u001b[38;5;241m1\u001b[39m)\n\u001b[1;32m--> 166\u001b[0m \u001b[38;5;28;01mreturn\u001b[39;00m pd\u001b[38;5;241m.\u001b[39mSeries(\n\u001b[0;32m    167\u001b[0m     lambda_ \u001b[38;5;241m*\u001b[39m np\u001b[38;5;241m.\u001b[39mpower(\u001b[38;5;241m-\u001b[39mnp\u001b[38;5;241m.\u001b[39mlog(p) \u001b[38;5;241m+\u001b[39m (conditional_after \u001b[38;5;241m/\u001b[39m lambda_) \u001b[38;5;241m*\u001b[39m\u001b[38;5;241m*\u001b[39m rho_, \u001b[38;5;241m1\u001b[39m \u001b[38;5;241m/\u001b[39m rho_) \u001b[38;5;241m-\u001b[39m conditional_after,\n\u001b[0;32m    168\u001b[0m     index\u001b[38;5;241m=\u001b[39m_get_index(df),\n\u001b[0;32m    169\u001b[0m )\n",
      "File \u001b[1;32m~\\anaconda3\\Lib\\site-packages\\pandas\\core\\series.py:468\u001b[0m, in \u001b[0;36mSeries.__init__\u001b[1;34m(self, data, index, dtype, name, copy, fastpath)\u001b[0m\n\u001b[0;32m    466\u001b[0m     data \u001b[38;5;241m=\u001b[39m data\u001b[38;5;241m.\u001b[39m_mgr\u001b[38;5;241m.\u001b[39mcopy(deep\u001b[38;5;241m=\u001b[39m\u001b[38;5;28;01mFalse\u001b[39;00m)\n\u001b[0;32m    467\u001b[0m \u001b[38;5;28;01melse\u001b[39;00m:\n\u001b[1;32m--> 468\u001b[0m     data \u001b[38;5;241m=\u001b[39m data\u001b[38;5;241m.\u001b[39mreindex(index, copy\u001b[38;5;241m=\u001b[39mcopy)\n\u001b[0;32m    469\u001b[0m     copy \u001b[38;5;241m=\u001b[39m \u001b[38;5;28;01mFalse\u001b[39;00m\n\u001b[0;32m    470\u001b[0m     data \u001b[38;5;241m=\u001b[39m data\u001b[38;5;241m.\u001b[39m_mgr\n",
      "File \u001b[1;32m~\\anaconda3\\Lib\\site-packages\\pandas\\core\\series.py:4918\u001b[0m, in \u001b[0;36mSeries.reindex\u001b[1;34m(self, index, axis, method, copy, level, fill_value, limit, tolerance)\u001b[0m\n\u001b[0;32m   4901\u001b[0m \u001b[38;5;129m@doc\u001b[39m(\n\u001b[0;32m   4902\u001b[0m     NDFrame\u001b[38;5;241m.\u001b[39mreindex,  \u001b[38;5;66;03m# type: ignore[has-type]\u001b[39;00m\n\u001b[0;32m   4903\u001b[0m     klass\u001b[38;5;241m=\u001b[39m_shared_doc_kwargs[\u001b[38;5;124m\"\u001b[39m\u001b[38;5;124mklass\u001b[39m\u001b[38;5;124m\"\u001b[39m],\n\u001b[1;32m   (...)\u001b[0m\n\u001b[0;32m   4916\u001b[0m     tolerance\u001b[38;5;241m=\u001b[39m\u001b[38;5;28;01mNone\u001b[39;00m,\n\u001b[0;32m   4917\u001b[0m ) \u001b[38;5;241m-\u001b[39m\u001b[38;5;241m>\u001b[39m Series:\n\u001b[1;32m-> 4918\u001b[0m     \u001b[38;5;28;01mreturn\u001b[39;00m \u001b[38;5;28msuper\u001b[39m()\u001b[38;5;241m.\u001b[39mreindex(\n\u001b[0;32m   4919\u001b[0m         index\u001b[38;5;241m=\u001b[39mindex,\n\u001b[0;32m   4920\u001b[0m         method\u001b[38;5;241m=\u001b[39mmethod,\n\u001b[0;32m   4921\u001b[0m         copy\u001b[38;5;241m=\u001b[39mcopy,\n\u001b[0;32m   4922\u001b[0m         level\u001b[38;5;241m=\u001b[39mlevel,\n\u001b[0;32m   4923\u001b[0m         fill_value\u001b[38;5;241m=\u001b[39mfill_value,\n\u001b[0;32m   4924\u001b[0m         limit\u001b[38;5;241m=\u001b[39mlimit,\n\u001b[0;32m   4925\u001b[0m         tolerance\u001b[38;5;241m=\u001b[39mtolerance,\n\u001b[0;32m   4926\u001b[0m     )\n",
      "File \u001b[1;32m~\\anaconda3\\Lib\\site-packages\\pandas\\core\\generic.py:5360\u001b[0m, in \u001b[0;36mNDFrame.reindex\u001b[1;34m(self, labels, index, columns, axis, method, copy, level, fill_value, limit, tolerance)\u001b[0m\n\u001b[0;32m   5357\u001b[0m     \u001b[38;5;28;01mreturn\u001b[39;00m \u001b[38;5;28mself\u001b[39m\u001b[38;5;241m.\u001b[39m_reindex_multi(axes, copy, fill_value)\n\u001b[0;32m   5359\u001b[0m \u001b[38;5;66;03m# perform the reindex on the axes\u001b[39;00m\n\u001b[1;32m-> 5360\u001b[0m \u001b[38;5;28;01mreturn\u001b[39;00m \u001b[38;5;28mself\u001b[39m\u001b[38;5;241m.\u001b[39m_reindex_axes(\n\u001b[0;32m   5361\u001b[0m     axes, level, limit, tolerance, method, fill_value, copy\n\u001b[0;32m   5362\u001b[0m )\u001b[38;5;241m.\u001b[39m__finalize__(\u001b[38;5;28mself\u001b[39m, method\u001b[38;5;241m=\u001b[39m\u001b[38;5;124m\"\u001b[39m\u001b[38;5;124mreindex\u001b[39m\u001b[38;5;124m\"\u001b[39m)\n",
      "File \u001b[1;32m~\\anaconda3\\Lib\\site-packages\\pandas\\core\\generic.py:5375\u001b[0m, in \u001b[0;36mNDFrame._reindex_axes\u001b[1;34m(self, axes, level, limit, tolerance, method, fill_value, copy)\u001b[0m\n\u001b[0;32m   5372\u001b[0m     \u001b[38;5;28;01mcontinue\u001b[39;00m\n\u001b[0;32m   5374\u001b[0m ax \u001b[38;5;241m=\u001b[39m \u001b[38;5;28mself\u001b[39m\u001b[38;5;241m.\u001b[39m_get_axis(a)\n\u001b[1;32m-> 5375\u001b[0m new_index, indexer \u001b[38;5;241m=\u001b[39m ax\u001b[38;5;241m.\u001b[39mreindex(\n\u001b[0;32m   5376\u001b[0m     labels, level\u001b[38;5;241m=\u001b[39mlevel, limit\u001b[38;5;241m=\u001b[39mlimit, tolerance\u001b[38;5;241m=\u001b[39mtolerance, method\u001b[38;5;241m=\u001b[39mmethod\n\u001b[0;32m   5377\u001b[0m )\n\u001b[0;32m   5379\u001b[0m axis \u001b[38;5;241m=\u001b[39m \u001b[38;5;28mself\u001b[39m\u001b[38;5;241m.\u001b[39m_get_axis_number(a)\n\u001b[0;32m   5380\u001b[0m obj \u001b[38;5;241m=\u001b[39m obj\u001b[38;5;241m.\u001b[39m_reindex_with_indexers(\n\u001b[0;32m   5381\u001b[0m     {axis: [new_index, indexer]},\n\u001b[0;32m   5382\u001b[0m     fill_value\u001b[38;5;241m=\u001b[39mfill_value,\n\u001b[0;32m   5383\u001b[0m     copy\u001b[38;5;241m=\u001b[39mcopy,\n\u001b[0;32m   5384\u001b[0m     allow_dups\u001b[38;5;241m=\u001b[39m\u001b[38;5;28;01mFalse\u001b[39;00m,\n\u001b[0;32m   5385\u001b[0m )\n",
      "File \u001b[1;32m~\\anaconda3\\Lib\\site-packages\\pandas\\core\\indexes\\base.py:4275\u001b[0m, in \u001b[0;36mIndex.reindex\u001b[1;34m(self, target, method, level, limit, tolerance)\u001b[0m\n\u001b[0;32m   4272\u001b[0m     \u001b[38;5;28;01mraise\u001b[39;00m \u001b[38;5;167;01mValueError\u001b[39;00m(\u001b[38;5;124m\"\u001b[39m\u001b[38;5;124mcannot handle a non-unique multi-index!\u001b[39m\u001b[38;5;124m\"\u001b[39m)\n\u001b[0;32m   4273\u001b[0m \u001b[38;5;28;01melif\u001b[39;00m \u001b[38;5;129;01mnot\u001b[39;00m \u001b[38;5;28mself\u001b[39m\u001b[38;5;241m.\u001b[39mis_unique:\n\u001b[0;32m   4274\u001b[0m     \u001b[38;5;66;03m# GH#42568\u001b[39;00m\n\u001b[1;32m-> 4275\u001b[0m     \u001b[38;5;28;01mraise\u001b[39;00m \u001b[38;5;167;01mValueError\u001b[39;00m(\u001b[38;5;124m\"\u001b[39m\u001b[38;5;124mcannot reindex on an axis with duplicate labels\u001b[39m\u001b[38;5;124m\"\u001b[39m)\n\u001b[0;32m   4276\u001b[0m \u001b[38;5;28;01melse\u001b[39;00m:\n\u001b[0;32m   4277\u001b[0m     indexer, _ \u001b[38;5;241m=\u001b[39m \u001b[38;5;28mself\u001b[39m\u001b[38;5;241m.\u001b[39mget_indexer_non_unique(target)\n",
      "\u001b[1;31mValueError\u001b[0m: cannot reindex on an axis with duplicate labels"
     ]
    }
   ],
   "source": [
    "weibull_aft = WeibullAFTFitter()\n",
    "weibull_aft.fit(AFT_data, duration_col='time_adjusted', event_col='lung_cancer')\n",
    "#weibull_aft.print_summary"
   ]
  },
  {
   "cell_type": "code",
   "execution_count": null,
   "id": "56655339",
   "metadata": {},
   "outputs": [],
   "source": []
  }
 ],
 "metadata": {
  "kernelspec": {
   "display_name": "Python 3 (ipykernel)",
   "language": "python",
   "name": "python3"
  },
  "language_info": {
   "codemirror_mode": {
    "name": "ipython",
    "version": 3
   },
   "file_extension": ".py",
   "mimetype": "text/x-python",
   "name": "python",
   "nbconvert_exporter": "python",
   "pygments_lexer": "ipython3",
   "version": "3.11.5"
  }
 },
 "nbformat": 4,
 "nbformat_minor": 5
}
